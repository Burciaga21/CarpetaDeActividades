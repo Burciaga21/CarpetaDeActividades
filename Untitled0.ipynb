{
  "nbformat": 4,
  "nbformat_minor": 0,
  "metadata": {
    "colab": {
      "provenance": [],
      "authorship_tag": "ABX9TyPh1ZrY2NEIiWHhIohtG5SZ",
      "include_colab_link": true
    },
    "kernelspec": {
      "name": "python3",
      "display_name": "Python 3"
    },
    "language_info": {
      "name": "python"
    }
  },
  "cells": [
    {
      "cell_type": "markdown",
      "metadata": {
        "id": "view-in-github",
        "colab_type": "text"
      },
      "source": [
        "<a href=\"https://colab.research.google.com/github/Burciaga21/CarpetaDeActividades/blob/main/Untitled0.ipynb\" target=\"_parent\"><img src=\"https://colab.research.google.com/assets/colab-badge.svg\" alt=\"Open In Colab\"/></a>"
      ]
    },
    {
      "cell_type": "code",
      "execution_count": 31,
      "metadata": {
        "id": "xV3kiyTwyETH",
        "colab": {
          "base_uri": "https://localhost:8080/"
        },
        "outputId": "e1f6e59d-cc4a-4ed7-eae9-47f1b1e67469"
      },
      "outputs": [
        {
          "output_type": "stream",
          "name": "stdout",
          "text": [
            "Ingresa un numero: 1\n",
            " El numero 1 es impar.\n"
          ]
        }
      ],
      "source": [
        "# Ejercicios Python-Moises Burciaga Mauricio 1902940 Clase: 002\n",
        "# Programa que solicite al usuario un número y que indique si es par o impar\n",
        "numero = int(input(\"Ingresa un numero: \"))\n",
        "\n",
        "if numero % 2 == 0:\n",
        "    print(f\"El numero {numero} es par.\")\n",
        "else:\n",
        "    print(f\" El numero {numero} es impar.\")\n"
      ]
    },
    {
      "cell_type": "code",
      "source": [
        "# Ejercicios Python-Moises Burciaga Mauricio 1902940 Clase: 002\n",
        "# Lista de números en orden inverso\n",
        "entrada = input(\"Lista de Números: \")\n",
        "\n",
        "números = entrada.split(',')\n",
        "\n",
        "números = [int(numero) for numero in números]\n",
        "\n",
        "# lista en orden inverso\n",
        "print(\"Lista en orden inverso:\")\n",
        "números.reverse()  # Invertir la lista\n",
        "for numero in números:\n",
        "    print(numero)\n"
      ],
      "metadata": {
        "id": "P-IhbVRvyJmL",
        "colab": {
          "base_uri": "https://localhost:8080/"
        },
        "outputId": "1564f063-21cb-4fb6-e6da-629e5aaf2116"
      },
      "execution_count": 24,
      "outputs": [
        {
          "output_type": "stream",
          "name": "stdout",
          "text": [
            "Lista de Números: 1,2,3,4,5\n",
            "Lista en orden inverso:\n",
            "5\n",
            "4\n",
            "3\n",
            "2\n",
            "1\n"
          ]
        }
      ]
    },
    {
      "cell_type": "code",
      "source": [
        "# Ejercicios Python-Moises Burciaga Mauricio 1902940 Clase: 002\n",
        "# Adivina un número entre 1 y 100\n",
        "numero_objetivo = random.randint(1, 100)\n",
        "\n",
        "intentos = 0\n",
        "\n",
        "while True:\n",
        "    intento = int(input(\"Adivina el numero entre 1 y 100: \"))\n",
        "    intentos += 1\n",
        "\n",
        "    if intento < numero_objetivo:\n",
        "        print(\"Mas.\")\n",
        "    elif intento > numero_objetivo:\n",
        "        print(\"Menos.\")\n",
        "    else:\n",
        "        print(f\"Correcto el numero es {numero_objetivo} .\")\n",
        "        break\n"
      ],
      "metadata": {
        "id": "NKB9aMkhg3qg",
        "colab": {
          "base_uri": "https://localhost:8080/"
        },
        "outputId": "084f1788-36ba-4a84-b027-933728f53972"
      },
      "execution_count": 28,
      "outputs": [
        {
          "output_type": "stream",
          "name": "stdout",
          "text": [
            "Adivina el numero entre 1 y 100: 55\n",
            "Menos.\n",
            "Adivina el numero entre 1 y 100: 44\n",
            "Menos.\n",
            "Adivina el numero entre 1 y 100: 33\n",
            "Mas.\n",
            "Adivina el numero entre 1 y 100: 36\n",
            "Menos.\n",
            "Adivina el numero entre 1 y 100: 35\n",
            "Correcto el numero es 35 .\n"
          ]
        }
      ]
    },
    {
      "cell_type": "code",
      "source": [
        "# Ejercicios Python-Moises Burciaga Mauricio 1902940 Clase: 002\n",
        "#Calcule los números primos dentro de un rango\n",
        "def es_primo(numero):\n",
        "    if numero <= 1:\n",
        "        return False\n",
        "    if numero <= 3:\n",
        "        return True\n",
        "    if numero % 2 == 0 or numero % 3 == 0:\n",
        "        return False\n",
        "    i = 5\n",
        "    while i * i <= numero:\n",
        "        if numero % i == 0 or numero % (i + 2) == 0:\n",
        "            return False\n",
        "        i += 6\n",
        "    return True\n",
        "\n",
        "# Rangos\n",
        "inicio = int(input(\"Rango inicial: \"))\n",
        "fin = int(input(\"Rango final: \"))\n",
        "\n",
        "\n",
        "if inicio > fin or inicio < 0:\n",
        "    print(\" Rango no validao.\")\n",
        "else:\n",
        "    print(f\"Los números primos dentro del rango del {inicio} al {fin} son:\")\n",
        "    for numero in range(inicio, fin + 1):\n",
        "        if es_primo(numero):\n",
        "            print(numero)\n"
      ],
      "metadata": {
        "id": "pC5MrOBo6D5t",
        "colab": {
          "base_uri": "https://localhost:8080/"
        },
        "outputId": "770cdf63-4f10-455a-80f4-44723e6c455a"
      },
      "execution_count": 29,
      "outputs": [
        {
          "output_type": "stream",
          "name": "stdout",
          "text": [
            "Rango inicial: 1\n",
            "Rango final: 20\n",
            "Los números primos dentro del rango del 1 al 20 son:\n",
            "2\n",
            "3\n",
            "5\n",
            "7\n",
            "11\n",
            "13\n",
            "17\n",
            "19\n"
          ]
        }
      ]
    }
  ]
}