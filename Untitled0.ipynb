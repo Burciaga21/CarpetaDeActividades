{
  "nbformat": 4,
  "nbformat_minor": 0,
  "metadata": {
    "colab": {
      "provenance": [],
      "authorship_tag": "ABX9TyOsd+r+Z52TFhCGrZj2ns2R",
      "include_colab_link": true
    },
    "kernelspec": {
      "name": "python3",
      "display_name": "Python 3"
    },
    "language_info": {
      "name": "python"
    }
  },
  "cells": [
    {
      "cell_type": "markdown",
      "metadata": {
        "id": "view-in-github",
        "colab_type": "text"
      },
      "source": [
        "<a href=\"https://colab.research.google.com/github/Burciaga21/CarpetaDeActividades/blob/main/Untitled0.ipynb\" target=\"_parent\"><img src=\"https://colab.research.google.com/assets/colab-badge.svg\" alt=\"Open In Colab\"/></a>"
      ]
    },
    {
      "cell_type": "code",
      "execution_count": null,
      "metadata": {
        "id": "xV3kiyTwyETH"
      },
      "outputs": [],
      "source": [
        "# Ejercicios Python-Moises Burciaga Mauricio 1902940 Clase: 002\n",
        "# Programa que solicite al usuario un número y que indique si es par o impar\n",
        "numero = int(input(\"Ingresa un número: \"))\n",
        "\n",
        "if numero % 2 == 0:\n",
        "    print(f\"{numero} es un número par.\")\n",
        "else:\n",
        "    print(f\"{numero} es un número impar.\")\n"
      ]
    },
    {
      "cell_type": "code",
      "source": [
        "# Ejercicios Python-Moises Burciaga Mauricio 1902940 Clase: 002\n",
        "# Lista de números en orden inverso\n",
        "entrada = input(\"Ingresa una lista de números separados por comas: \")\n",
        "\n",
        "números = entrada.split(',')\n",
        "\n",
        "números = [int(numero) for numero in numeros]\n",
        "\n",
        "# lista en orden inverso\n",
        "print(\"Lista en orden inverso:\")\n",
        "numeros.reverse()  # Invertir la lista\n",
        "for numero in numeros:\n",
        "    print(numero)\n"
      ],
      "metadata": {
        "id": "P-IhbVRvyJmL"
      },
      "execution_count": null,
      "outputs": []
    },
    {
      "cell_type": "code",
      "source": [
        "# Ejercicios Python-Moises Burciaga Mauricio 1902940 Clase: 002\n",
        "# Adivina un número entre 1 y 100\n",
        "numero_objetivo = random.randint(1, 100)\n",
        "\n",
        "intentos = 0\n",
        "\n",
        "while True:\n",
        "    intento = int(input(\"Adivina el número entre 1 y 100: \"))\n",
        "    intentos += 1\n",
        "\n",
        "    if intento < numero_objetivo:\n",
        "        print(\"Mas.\")\n",
        "    elif intento > numero_objetivo:\n",
        "        print(\"Menos.\")\n",
        "    else:\n",
        "        print(f\"Correcto el número es {numero_objetivo} .\")\n",
        "        break\n"
      ],
      "metadata": {
        "id": "NKB9aMkhg3qg"
      },
      "execution_count": null,
      "outputs": []
    },
    {
      "cell_type": "code",
      "source": [
        "# Ejercicios Python-Moises Burciaga Mauricio 1902940 Clase: 002\n",
        "#Calcule los números primos dentro de un rango\n",
        "def es_primo(numero):\n",
        "    if numero <= 1:\n",
        "        return False\n",
        "    if numero <= 3:\n",
        "        return True\n",
        "    if numero % 2 == 0 or numero % 3 == 0:\n",
        "        return False\n",
        "    i = 5\n",
        "    while i * i <= numero:\n",
        "        if numero % i == 0 or numero % (i + 2) == 0:\n",
        "            return False\n",
        "        i += 6\n",
        "    return True\n",
        "\n",
        "# Rangos\n",
        "inicio = int(input(\"Rango inicial: \"))\n",
        "fin = int(input(\"Rango final: \"))\n",
        "\n",
        "\n",
        "if inicio > fin or inicio < 0:\n",
        "    print(\" Rango no validao.\")\n",
        "else:\n",
        "    print(f\"Los números primos dentro del rango del {inicio} al {fin} son:\")\n",
        "    for numero in range(inicio, fin + 1):\n",
        "        if es_primo(numero):\n",
        "            print(numero)\n"
      ],
      "metadata": {
        "id": "pC5MrOBo6D5t"
      },
      "execution_count": null,
      "outputs": []
    }
  ]
}
